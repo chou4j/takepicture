{
 "cells": [
  {
   "cell_type": "markdown",
   "metadata": {},
   "source": [
    "# 下載照片檔案         \n",
    "        "
   ]
  },
  {
   "cell_type": "code",
   "execution_count": null,
   "metadata": {},
   "outputs": [],
   "source": [
    "import requests\n",
    "import os\n",
    "import time\n",
    "\n",
    "# 建立目錄\n",
    "#os.mkdir('D:/ttest')\n",
    "\n",
    "for i in range(10):\n",
    "    url = 'https://ebook.wra.gov.tw:8443/flip/2017/10106F0003B/files/mobile/' + str(i+1) + '.jpg'\n",
    "    r = requests.get(url)\n",
    "    if r.status_code == 200:\n",
    "        # 儲存下載的圖片\n",
    "        with open('D:/image/' + str(i+1) + '.jpg', 'wb') as f:\n",
    "            f.write(r.content)\n",
    "        # 加上延遲\n",
    "        time.sleep(1)\n",
    "        print(str(i+1))\n",
    "    else:\n",
    "        print('Failed to download image.')"
   ]
  },
  {
   "cell_type": "markdown",
   "metadata": {},
   "source": [
    "# 整合成pdf檔案 "
   ]
  },
  {
   "cell_type": "code",
   "execution_count": 10,
   "metadata": {},
   "outputs": [
    {
     "name": "stdout",
     "output_type": "stream",
     "text": [
      "1\n",
      "2\n",
      "3\n",
      "4\n",
      "5\n",
      "6\n",
      "7\n",
      "8\n",
      "9\n",
      "10\n"
     ]
    }
   ],
   "source": [
    "from PyPDF4 import PdfFileMerger, PdfFileReader\n",
    "import requests\n",
    "import os\n",
    "import time\n",
    "from PIL import Image\n",
    "\n",
    "# 建立目錄\n",
    "pdf_folder = 'D:/pdf/'\n",
    "if not os.path.exists(pdf_folder):\n",
    "    os.makedirs(pdf_folder)\n",
    "\n",
    "# 下載並轉換成 PDF\n",
    "for i in range(10):\n",
    "    url = 'https://ebook.wra.gov.tw:8443/flip/2017/10106F0003B/files/mobile/' + str(i+1) + '.jpg'\n",
    "    r = requests.get(url)\n",
    "    if r.status_code == 200:\n",
    "        # 下載圖片\n",
    "        with open('D:/pdf/' + str(i+1) + '.jpg', 'wb') as f:\n",
    "            f.write(r.content)\n",
    "\n",
    "        # 轉換成 PDF\n",
    "        image = Image.open('D:/pdf/' + str(i+1) + '.jpg')\n",
    "        pdf_path = pdf_folder + str(i+1) + '.pdf'\n",
    "        image.save(pdf_path, \"PDF\" ,resolution=100.0)\n",
    "        time.sleep(1)\n",
    "\n",
    "        print(str(i+1))\n",
    "    else:\n",
    "        print('Failed to download image.')\n",
    "\n",
    "# 合併 PDF 檔案\n",
    "pdf_paths = [pdf_folder + str(i+1) + '.pdf' for i in range(10)]\n",
    "pdf_merger = PdfFileMerger()\n",
    "for pdf_path in pdf_paths:\n",
    "    pdf_merger.append(PdfFileReader(open(pdf_path, 'rb')))\n",
    "\n",
    "pdf_output_path = 'D:/pdf/merged.pdf'\n",
    "with open(pdf_output_path, 'wb') as f:\n",
    "    pdf_merger.write(f)\n",
    "\n"
   ]
  },
  {
   "cell_type": "markdown",
   "metadata": {},
   "source": [
    "# GUI來抓檔案"
   ]
  },
  {
   "cell_type": "code",
   "execution_count": 42,
   "metadata": {},
   "outputs": [
    {
     "name": "stdout",
     "output_type": "stream",
     "text": [
      "1\n",
      "2\n",
      "3\n"
     ]
    }
   ],
   "source": [
    "import tkinter as tk\n",
    "import math\n",
    "from PyPDF4 import PdfFileMerger, PdfFileReader\n",
    "import requests\n",
    "import os\n",
    "import time\n",
    "from PIL import Image\n",
    "\n",
    "window = tk.Tk()\n",
    "window.title('book App')\n",
    "window.geometry('800x600')\n",
    "window.configure(background='white')\n",
    "\n",
    "def calculate_bmi_number():\n",
    "    height = str(height_entry.get())\n",
    "    weight = str(weight_entry.get())\n",
    "    number = int(number_entry.get())\n",
    "    #bmi_value = round(weight / math.pow(height, 2), 2)\n",
    "    \n",
    "    # 建立目錄\n",
    "    pdf_folder = 'D:/pdf/'\n",
    "    if not os.path.exists(pdf_folder):\n",
    "        os.makedirs(pdf_folder)\n",
    "\n",
    "    # 下載並轉換成 PDF\n",
    "    for i in range(number):\n",
    "        url = 'https://ebook.wra.gov.tw:8443/flip/'+height+'/'+weight+'/files/mobile/' + str(i+1) + '.jpg'\n",
    "        r = requests.get(url)\n",
    "        if r.status_code == 200:\n",
    "            # 下載圖片\n",
    "            with open('D:/pdf/' + str(i+1) + '.jpg', 'wb') as f:\n",
    "                f.write(r.content)\n",
    "\n",
    "            # 轉換成 PDF\n",
    "            image = Image.open('D:/pdf/' + str(i+1) + '.jpg')\n",
    "            pdf_path = pdf_folder + str(i+1) + '.pdf'\n",
    "            image.save(pdf_path, \"PDF\" ,resolution=100.0)\n",
    "            time.sleep(1)\n",
    "            print(str(i+1))\n",
    "        else:\n",
    "            print('Failed to download image.')\n",
    "\n",
    "    # 合併 PDF 檔案\n",
    "    pdf_paths = [pdf_folder + str(i+1) + '.pdf' for i in range(number)]\n",
    "    pdf_merger = PdfFileMerger()\n",
    "    for pdf_path in pdf_paths:\n",
    "        pdf_merger.append(PdfFileReader(open(pdf_path, 'rb')))\n",
    "\n",
    "    pdf_output_path = 'D:/pdf/merged.pdf'\n",
    "    with open(pdf_output_path, 'wb') as f:\n",
    "        pdf_merger.write(f)\n",
    "    \n",
    "    \n",
    "    result = '目前下載{}年分，專案為 {}的報告書'.format(height, weight)\n",
    "    result_label.configure(text=result)\n",
    "\n",
    "\n",
    "\n",
    "header_label = tk.Label(window, text='抓報告')\n",
    "header_label.pack()\n",
    "\n",
    "height_frame = tk.Frame(window)\n",
    "height_frame.pack(side=tk.TOP)\n",
    "height_label = tk.Label(height_frame, text='年份（西元）')\n",
    "height_label.pack(side=tk.LEFT)\n",
    "height_entry = tk.Entry(height_frame)\n",
    "height_entry.pack(side=tk.LEFT)\n",
    "\n",
    "weight_frame = tk.Frame(window)\n",
    "weight_frame.pack(side=tk.TOP)\n",
    "weight_label = tk.Label(weight_frame, text='案號（編號）')\n",
    "weight_label.pack(side=tk.LEFT)\n",
    "weight_entry = tk.Entry(weight_frame)\n",
    "weight_entry.pack(side=tk.LEFT)\n",
    "\n",
    "number_frame = tk.Frame(window)\n",
    "number_frame.pack(side=tk.TOP)\n",
    "number_label = tk.Label(number_frame, text='頁數（p.）')\n",
    "number_label.pack(side=tk.LEFT)\n",
    "number_entry = tk.Entry(number_frame)\n",
    "number_entry.pack(side=tk.LEFT)\n",
    "\n",
    "\n",
    "result_label = tk.Label(window)\n",
    "result_label.pack()\n",
    "\n",
    "calculate_btn = tk.Button(window, text='馬上下載', command=calculate_bmi_number)\n",
    "calculate_btn.pack()\n",
    "\n",
    "window.mainloop()"
   ]
  },
  {
   "cell_type": "code",
   "execution_count": null,
   "metadata": {},
   "outputs": [],
   "source": []
  },
  {
   "cell_type": "code",
   "execution_count": null,
   "metadata": {},
   "outputs": [],
   "source": []
  }
 ],
 "metadata": {
  "kernelspec": {
   "display_name": "Python 3",
   "language": "python",
   "name": "python3"
  },
  "language_info": {
   "codemirror_mode": {
    "name": "ipython",
    "version": 3
   },
   "file_extension": ".py",
   "mimetype": "text/x-python",
   "name": "python",
   "nbconvert_exporter": "python",
   "pygments_lexer": "ipython3",
   "version": "3.7.6"
  }
 },
 "nbformat": 4,
 "nbformat_minor": 4
}
