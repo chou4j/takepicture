{
 "cells": [
  {
   "cell_type": "code",
   "execution_count": null,
   "metadata": {},
   "outputs": [],
   "source": [
    "mport requests\n",
    "import os\n",
    "import time\n",
    "\n",
    "# 建立目錄\n",
    "#os.mkdir('D:/ttest')\n",
    "\n",
    "for i in range(10):\n",
    "    url = 'https://ebook.wra.gov.tw:8443/flip/2017/10106F0003B/files/mobile/' + str(i+1) + '.jpg'\n",
    "    r = requests.get(url)\n",
    "    if r.status_code == 200:\n",
    "        # 儲存下載的圖片\n",
    "        with open('D:/image/' + str(i+1) + '.jpg', 'wb') as f:\n",
    "            f.write(r.content)\n",
    "        # 加上延遲\n",
    "        time.sleep(1)\n",
    "        print(str(i+1))\n",
    "    else:\n",
    "        print('Failed to download image.')\n",
    "        \n",
    "        "
   ]
  },
  {
   "cell_type": "code",
   "execution_count": 10,
   "metadata": {},
   "outputs": [
    {
     "name": "stdout",
     "output_type": "stream",
     "text": [
      "1\n",
      "2\n",
      "3\n",
      "4\n",
      "5\n",
      "6\n",
      "7\n",
      "8\n",
      "9\n",
      "10\n"
     ]
    }
   ],
   "source": [
    "from PyPDF4 import PdfFileMerger, PdfFileReader\n",
    "import requests\n",
    "import os\n",
    "import time\n",
    "from PIL import Image\n",
    "\n",
    "# 建立目錄\n",
    "pdf_folder = 'D:/pdf/'\n",
    "if not os.path.exists(pdf_folder):\n",
    "    os.makedirs(pdf_folder)\n",
    "\n",
    "# 下載並轉換成 PDF\n",
    "for i in range(10):\n",
    "    url = 'https://ebook.wra.gov.tw:8443/flip/2017/10106F0003B/files/mobile/' + str(i+1) + '.jpg'\n",
    "    r = requests.get(url)\n",
    "    if r.status_code == 200:\n",
    "        # 下載圖片\n",
    "        with open('D:/image/' + str(i+1) + '.jpg', 'wb') as f:\n",
    "            f.write(r.content)\n",
    "\n",
    "        # 轉換成 PDF\n",
    "        image = Image.open('D:/image/' + str(i+1) + '.jpg')\n",
    "        pdf_path = pdf_folder + str(i+1) + '.pdf'\n",
    "        image.save(pdf_path, \"PDF\" ,resolution=100.0)\n",
    "\n",
    "        print(str(i+1))\n",
    "    else:\n",
    "        print('Failed to download image.')\n",
    "\n",
    "# 合併 PDF 檔案\n",
    "pdf_paths = [pdf_folder + str(i+1) + '.pdf' for i in range(10)]\n",
    "pdf_merger = PdfFileMerger()\n",
    "for pdf_path in pdf_paths:\n",
    "    pdf_merger.append(PdfFileReader(open(pdf_path, 'rb')))\n",
    "\n",
    "pdf_output_path = 'D:/pdf/merged.pdf'\n",
    "with open(pdf_output_path, 'wb') as f:\n",
    "    pdf_merger.write(f)\n",
    "\n"
   ]
  },
  {
   "cell_type": "code",
   "execution_count": null,
   "metadata": {},
   "outputs": [],
   "source": []
  }
 ],
 "metadata": {
  "kernelspec": {
   "display_name": "Python 3",
   "language": "python",
   "name": "python3"
  },
  "language_info": {
   "codemirror_mode": {
    "name": "ipython",
    "version": 3
   },
   "file_extension": ".py",
   "mimetype": "text/x-python",
   "name": "python",
   "nbconvert_exporter": "python",
   "pygments_lexer": "ipython3",
   "version": "3.7.6"
  }
 },
 "nbformat": 4,
 "nbformat_minor": 4
}
